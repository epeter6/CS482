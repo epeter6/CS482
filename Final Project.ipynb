{
 "cells": [
  {
   "cell_type": "markdown",
   "id": "7b54e113",
   "metadata": {},
   "source": [
    "# Final Project: License Plate Reader\n",
    "\n",
    "\n",
    "Manual license plate reading is prone to errors, especially when there are multiple vehicles, or the plates are dirty, obstructed or damaged. Automated license plate reading (ALPR) using computer vision can improve accuracy, speed up the process, and reduce human error. By using methodologies that we used in class such as image processing/transformation applications and feature matching, we should be able to have our code correctly identify the edges and boundaries of each character to successfully read a license plate.\n",
    "\n",
    "In order to achieve this, we will be going through the following process:\n",
    "- Be able to identify the placement of the license plate.\n",
    "- Identify each character on the license plate.\n",
    "- Classify each character and add up to get the full number.\n",
    "\n",
    "## Identifying the License Plate"
   ]
  },
  {
   "cell_type": "code",
   "execution_count": 3,
   "id": "a0ebfa3c",
   "metadata": {},
   "outputs": [],
   "source": [
    "import cv2\n",
    "import numpy as np\n",
    "from keras_ocr.detection import Detector\n",
    "from keras_ocr.recognition import Recognizer\n",
    "from PIL import Image\n",
    "\n",
    "def load_image(filepath):\n",
    "    img = Image.open(filepath)\n",
    "    return (np.asarray(img).astype(float)/255)[:, :, :3]\n",
    "\n"
   ]
  },
  {
   "cell_type": "code",
   "execution_count": 2,
   "id": "df9afe5f",
   "metadata": {},
   "outputs": [
    {
     "name": "stdout",
     "output_type": "stream",
     "text": [
      "Looking for C:\\Users\\mario\\.keras-ocr\\craft_mlt_25k.h5\n",
      "1/1 [==============================] - 1s 1s/step\n"
     ]
    },
    {
     "ename": "IndexError",
     "evalue": "index 0 is out of bounds for axis 0 with size 0",
     "output_type": "error",
     "traceback": [
      "\u001b[1;31m---------------------------------------------------------------------------\u001b[0m",
      "\u001b[1;31mIndexError\u001b[0m                                Traceback (most recent call last)",
      "Cell \u001b[1;32mIn[2], line 5\u001b[0m\n\u001b[0;32m      2\u001b[0m img \u001b[38;5;241m=\u001b[39m cv2\u001b[38;5;241m.\u001b[39mresize(img, (\u001b[38;5;241m600\u001b[39m, \u001b[38;5;241m400\u001b[39m))\n\u001b[0;32m      4\u001b[0m detector \u001b[38;5;241m=\u001b[39m Detector()\n\u001b[1;32m----> 5\u001b[0m plate \u001b[38;5;241m=\u001b[39m \u001b[43mdetector\u001b[49m\u001b[38;5;241;43m.\u001b[39;49m\u001b[43mdetect\u001b[49m\u001b[43m(\u001b[49m\u001b[43m[\u001b[49m\u001b[43mimg\u001b[49m\u001b[43m]\u001b[49m\u001b[43m)\u001b[49m\u001b[43m[\u001b[49m\u001b[38;5;241;43m0\u001b[39;49m\u001b[43m]\u001b[49m\u001b[43m[\u001b[49m\u001b[38;5;241;43m0\u001b[39;49m\u001b[43m]\u001b[49m\n\u001b[0;32m      7\u001b[0m recognizer \u001b[38;5;241m=\u001b[39m Recognizer()\n\u001b[0;32m      8\u001b[0m img \u001b[38;5;241m=\u001b[39m np\u001b[38;5;241m.\u001b[39masarray(img)\n",
      "\u001b[1;31mIndexError\u001b[0m: index 0 is out of bounds for axis 0 with size 0"
     ]
    }
   ],
   "source": [
    "img = load_image(\"Cars147.png\")\n",
    "img = cv2.resize(img, (600, 400))\n",
    "\n",
    "detector = Detector()\n",
    "plate = detector.detect([img])[0][0]\n",
    "\n",
    "recognizer = Recognizer()\n",
    "img = np.asarray(img)\n",
    "characters = recognizer.recognize([img])\n",
    "\n",
    "plate_number = ''.join(characters)\n",
    "\n",
    "print(plate_number)"
   ]
  },
  {
   "cell_type": "code",
   "execution_count": 4,
   "id": "3faca01e",
   "metadata": {},
   "outputs": [
    {
     "ename": "error",
     "evalue": "OpenCV(4.5.4) D:\\a\\opencv-python\\opencv-python\\opencv\\modules\\highgui\\src\\window.cpp:1274: error: (-2:Unspecified error) The function is not implemented. Rebuild the library with Windows, GTK+ 2.x or Cocoa support. If you are on Ubuntu or Debian, install libgtk2.0-dev and pkg-config, then re-run cmake or configure script in function 'cvShowImage'\n",
     "output_type": "error",
     "traceback": [
      "\u001b[1;31m---------------------------------------------------------------------------\u001b[0m",
      "\u001b[1;31merror\u001b[0m                                     Traceback (most recent call last)",
      "Cell \u001b[1;32mIn[4], line 31\u001b[0m\n\u001b[0;32m     28\u001b[0m canny \u001b[38;5;241m=\u001b[39m cv2\u001b[38;5;241m.\u001b[39mCanny(th, \u001b[38;5;241m30\u001b[39m, \u001b[38;5;241m150\u001b[39m)\n\u001b[0;32m     30\u001b[0m \u001b[38;5;66;03m# Display the image with the license plate region highlighted\u001b[39;00m\n\u001b[1;32m---> 31\u001b[0m \u001b[43mcv2\u001b[49m\u001b[38;5;241;43m.\u001b[39;49m\u001b[43mimshow\u001b[49m\u001b[43m(\u001b[49m\u001b[38;5;124;43m'\u001b[39;49m\u001b[38;5;124;43mLicense Plate Detection\u001b[39;49m\u001b[38;5;124;43m'\u001b[39;49m\u001b[43m,\u001b[49m\u001b[43m \u001b[49m\u001b[43mcanny\u001b[49m\u001b[43m)\u001b[49m\n\u001b[0;32m     32\u001b[0m cv2\u001b[38;5;241m.\u001b[39mwaitKey(\u001b[38;5;241m0\u001b[39m)\n\u001b[0;32m     33\u001b[0m cv2\u001b[38;5;241m.\u001b[39mdestroyAllWindows()\n",
      "\u001b[1;31merror\u001b[0m: OpenCV(4.5.4) D:\\a\\opencv-python\\opencv-python\\opencv\\modules\\highgui\\src\\window.cpp:1274: error: (-2:Unspecified error) The function is not implemented. Rebuild the library with Windows, GTK+ 2.x or Cocoa support. If you are on Ubuntu or Debian, install libgtk2.0-dev and pkg-config, then re-run cmake or configure script in function 'cvShowImage'\n"
     ]
    }
   ],
   "source": [
    "# Import necessary libraries\n",
    "import cv2\n",
    "import easyocr\n",
    "\n",
    "# Load the image of the license plate using OpenCV\n",
    "img = cv2.imread('Cars248.png')\n",
    "\n",
    "# Resize the image to a fixed width while maintaining the aspect ratio\n",
    "img_width = 600\n",
    "aspect_ratio = img.shape[1] / img.shape[0]\n",
    "img_height = int(img_width / aspect_ratio)\n",
    "img = cv2.resize(img, (img_width, img_height))\n",
    "\n",
    "# Convert the image to grayscale\n",
    "gray = cv2.cvtColor(img, cv2.COLOR_BGR2GRAY)\n",
    "\n",
    "# Apply Gaussian blur to reduce noise and smooth the image\n",
    "kernel_size = (5, 5)\n",
    "blur = cv2.GaussianBlur(gray, kernel_size, 0)\n",
    "\n",
    "# Apply adaptive thresholding to separate the foreground (license plate) from the background\n",
    "max_value = 255\n",
    "block_size = 19\n",
    "constant = 9\n",
    "th = cv2.adaptiveThreshold(blur, max_value, cv2.ADAPTIVE_THRESH_GAUSSIAN_C, cv2.THRESH_BINARY_INV, block_size, constant)\n",
    "\n",
    "# Apply edge detection to highlight the edges of the license plate\n",
    "canny = cv2.Canny(th, 30, 150)\n",
    "\n",
    "# Display the image with the license plate region highlighted\n",
    "cv2.imshow('License Plate Detection', canny)\n",
    "cv2.waitKey(0)\n",
    "cv2.destroyAllWindows()\n",
    "\n",
    "\n",
    "# Find contours in the image\n",
    "contours, hierarchy = cv2.findContours(canny, cv2.RETR_TREE, cv2.CHAIN_APPROX_SIMPLE)\n",
    "\n",
    "min_area = 10000\n",
    "\n",
    "# Create an EasyOCR reader object\n",
    "reader = easyocr.Reader(['en'])\n",
    "\n",
    "# Iterate over each contour to find the license plate\n",
    "for contour in contours:\n",
    "    # Get the bounding rectangle of the contour\n",
    "    x, y, w, h = cv2.boundingRect(contour)\n",
    "    aspect_ratio = w / h\n",
    "    \n",
    "    # Check if the aspect ratio of the bounding rectangle is within a certain range to filter out non-license plate regions\n",
    "    min_aspect_ratio = 3\n",
    "    max_aspect_ratio = 4\n",
    "    if aspect_ratio >= min_aspect_ratio and aspect_ratio <= max_aspect_ratio and w*h >= min_area :\n",
    "        # Draw a rectangle around the license plate region\n",
    "        cv2.rectangle(img, (x, y), (x + w, y + h), (0, 255, 0), 2)\n",
    "        \n",
    "        # Extract the license plate region from the image\n",
    "        plate_img = img[y:y + h, x:x + w]\n",
    "\n",
    "        # Use EasyOCR to recognize the text in the license plate region\n",
    "        result = reader.readtext(plate_img)\n",
    "\n",
    "        # Print the recognized text\n",
    "        print(result)\n",
    "        \n",
    "        \n",
    "# Display the image with the license plate region highlighted\n",
    "cv2.imshow('License Plate Detection', img)\n",
    "cv2.waitKey(0)\n",
    "cv2.destroyAllWindows()\n",
    "\n",
    "\n"
   ]
  },
  {
   "cell_type": "code",
   "execution_count": null,
   "id": "94dcbeb9",
   "metadata": {},
   "outputs": [],
   "source": []
  }
 ],
 "metadata": {
  "kernelspec": {
   "display_name": "Python 3 (ipykernel)",
   "language": "python",
   "name": "python3"
  },
  "language_info": {
   "codemirror_mode": {
    "name": "ipython",
    "version": 3
   },
   "file_extension": ".py",
   "mimetype": "text/x-python",
   "name": "python",
   "nbconvert_exporter": "python",
   "pygments_lexer": "ipython3",
   "version": "3.10.9"
  }
 },
 "nbformat": 4,
 "nbformat_minor": 5
}
