{
 "cells": [
  {
   "cell_type": "markdown",
   "id": "588a4525",
   "metadata": {},
   "source": [
    "# Final Project: License Plate Reader\n",
    "\n",
    "\n",
    "Manual license plate reading is prone to errors, especially when there are multiple vehicles, or the plates are dirty, obstructed or damaged. Automated license plate reading (ALPR) using computer vision can improve accuracy, speed up the process, and reduce human error. By using methodologies that we used in class such as image processing/transformation applications and feature matching, we should be able to have our code correctly identify the edges and boundaries of each character to successfully read a license plate.\n",
    "\n",
    "In order to achieve this, we will be going through the following process:\n",
    "- Be able to identify the placement of the license plate.\n",
    "- Identify each character on the license plate.\n",
    "- Classify each character and add up to get the full number."
   ]
  },
  {
   "cell_type": "code",
   "execution_count": null,
   "id": "462a8020",
   "metadata": {},
   "outputs": [],
   "source": []
  }
 ],
 "metadata": {
  "kernelspec": {
   "display_name": "Python 3 (ipykernel)",
   "language": "python",
   "name": "python3"
  },
  "language_info": {
   "codemirror_mode": {
    "name": "ipython",
    "version": 3
   },
   "file_extension": ".py",
   "mimetype": "text/x-python",
   "name": "python",
   "nbconvert_exporter": "python",
   "pygments_lexer": "ipython3",
   "version": "3.10.9"
  }
 },
 "nbformat": 4,
 "nbformat_minor": 5
}
